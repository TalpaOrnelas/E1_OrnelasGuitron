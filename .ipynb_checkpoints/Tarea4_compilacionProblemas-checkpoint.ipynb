{
 "cells": [
  {
   "cell_type": "markdown",
   "metadata": {},
   "source": [
    "<img style=\"float: left; margin: 30px 15px 15px 15px;\" src=\"https://encrypted-tbn0.gstatic.com/images?q=tbn:ANd9GcTFzQj91sOlkeDFkg5HDbjtR4QJYmLXkfMNig&usqp=CAU\" width=\"400\" height=\"500\" /> \n",
    "    \n",
    "    \n",
    "### <font color='navy'> Simulación matemática. \n",
    "\n",
    "**Nombre:** TALPA DE JESUS ORNELAS GÜITRON.\n",
    "\n",
    "**Fecha:** 27 de septiembre del 2023.\n",
    "\n",
    "**Expediente** : 745134.\n",
    "    \n",
    "**Profesor:** Oscar David Jaramillo Zuluaga.\n",
    "    \n",
    "**Link Github**: https://github.com/TalpaOrnelas/E1_OrnelasGuitron\n",
    "\n",
    "# Tarea 4 - Compilación de problemas Módulo 1 - Optimización. \n",
    "\n",
    "Lea cuidadosamente las siguientes **indicaciones** antes de comenzar la tarea:\n",
    "- Para resolver la tarea edite este mismo archivo y renómbrelo de la siguiente manera: *E1_ApellidoNombre*, donde *ApellidoNombre* corresponde a su apellido paterno con la inicial en mayúscula, seguido de su primer nombre con la inicial en mayúscula **sin acentos**. Por ejemplo, en mi caso el nombre del archivo sería *E1_JaramilloZuluaga*.\n",
    "- Resuelva los puntos en el espacio provisto. Si requiere agregar más celdas para código o escritura, hágalo.\n",
    "- Recuerde que también se está evaluando su capacidad de interpretar los resultados. Escriba sus interpretaciones/conclusiones en celdas utilizando *Markdown*.\n",
    "- El formato de presentación de todo el examen en general debe ser adecuado. Use tamaños de letra, colores, etiquetas, etcétera."
   ]
  },
  {
   "cell_type": "markdown",
   "metadata": {},
   "source": [
    "## Primer punto. Optimización de funciones escalares usando `sympy` (30 puntos).\n",
    "\n",
    "**Enunciado.** \n",
    "\n",
    "El telescopio espacial Hubble fue puesto en operación el 24 de abril de 1990 por el trasbordador espacial Discovery. Un modelo para la velocidad del trasbordador durante su misión desde el lanzamiento en $t=0$ hasta que los cohetes auxiliares de combustible sólido se desprenden en el instante $t=126$ , está dado por \n",
    "\n",
    "$$v(t) =  0.001302t^3 - 0.09029t^2+23.61t - 3.083$$\n",
    "\n",
    "(en pies por segundo). Usando este modelo, estime los valores máximo y mínimo absolutos de la aceleración del trasbordador entre el lanzamiento y el desprendimiento de los cohetes auxiliares de combustible sólido. **NOTA: Recuerde que la fórmula de la aceleración es:**\n",
    "\n",
    "$$a=\\frac{dv}{dt}$$"
   ]
  },
  {
   "cell_type": "markdown",
   "metadata": {},
   "source": [
    "**Punto 1 (15 puntos).** Usando `sympy` encontrar la expresión para la aceleración y los puntos críticos de la misma."
   ]
  },
  {
   "cell_type": "markdown",
   "metadata": {},
   "source": [
    "**Solución punto 1.**"
   ]
  },
  {
   "cell_type": "markdown",
   "metadata": {},
   "source": [
    "Para obtener nuestra aceleracion, primero se deve de comprender que es igual a la derivada de la velocidad respecto al tiempo, por lo tanto la derivaremos y apartir de ella se obtendar los valores maximos y minimos que se establecen."
   ]
  },
  {
   "cell_type": "code",
   "execution_count": 80,
   "metadata": {},
   "outputs": [],
   "source": [
    "# Importar librería numpy\n",
    "import sympy as sp\n",
    "import sympy as sym\n",
    "\n",
    "# Importar librería numpy\n",
    "import numpy as np\n",
    "\n",
    "# importar matplotlib.pyplot\n",
    "import matplotlib.pyplot as plt"
   ]
  },
  {
   "cell_type": "code",
   "execution_count": 81,
   "metadata": {},
   "outputs": [
    {
     "data": {
      "text/latex": [
       "$\\displaystyle 0.001302 t^{3} - 0.09029 t^{2} + 23.61 t - 3.083$"
      ],
      "text/plain": [
       "0.001302*t**3 - 0.09029*t**2 + 23.61*t - 3.083"
      ]
     },
     "execution_count": 81,
     "metadata": {},
     "output_type": "execute_result"
    }
   ],
   "source": [
    "# Declarar función v y mostrar\n",
    "v = 0.001302*t**3 - 0.09029*t**2 + 23.61*t - 3.083\n",
    "v"
   ]
  },
  {
   "cell_type": "code",
   "execution_count": 82,
   "metadata": {},
   "outputs": [
    {
     "data": {
      "text/latex": [
       "$\\displaystyle t$"
      ],
      "text/plain": [
       "t"
      ]
     },
     "execution_count": 82,
     "metadata": {},
     "output_type": "execute_result"
    }
   ],
   "source": [
    "#Declarar variable v como real\n",
    "sym.var(\"t\",real=True)"
   ]
  },
  {
   "cell_type": "code",
   "execution_count": 83,
   "metadata": {},
   "outputs": [
    {
     "data": {
      "text/latex": [
       "$\\displaystyle 0.003906 t^{2} - 0.18058 t + 23.61$"
      ],
      "text/plain": [
       "0.003906*t**2 - 0.18058*t + 23.61"
      ]
     },
     "execution_count": 83,
     "metadata": {},
     "output_type": "execute_result"
    }
   ],
   "source": [
    "# Encontrar la primera derivada de la función v\n",
    "a = sym.diff(v,t)\n",
    "a"
   ]
  },
  {
   "cell_type": "code",
   "execution_count": 84,
   "metadata": {},
   "outputs": [
    {
     "data": {
      "text/latex": [
       "$\\displaystyle 0.007812 t - 0.18058$"
      ],
      "text/plain": [
       "0.007812*t - 0.18058"
      ]
     },
     "execution_count": 84,
     "metadata": {},
     "output_type": "execute_result"
    }
   ],
   "source": [
    "# Encontrar la derivada de la función a\n",
    "da = sym.diff(a,t)\n",
    "da"
   ]
  },
  {
   "cell_type": "code",
   "execution_count": 85,
   "metadata": {},
   "outputs": [
    {
     "data": {
      "text/plain": [
       "[23.1157194060420]"
      ]
     },
     "execution_count": 85,
     "metadata": {},
     "output_type": "execute_result"
    }
   ],
   "source": [
    "#Resolver v'(t)= 0 y mostrar punto\n",
    "tc = sym.solve(da,t)\n",
    "tc"
   ]
  },
  {
   "cell_type": "markdown",
   "metadata": {},
   "source": [
    "Con esto sabemos que tenemos un punto critico $t=(23.1157)$ en nuestra gráfica lo cual nos servira para acontinuación deducir si la aceleracion es mínima o maxima e interpretarla una vez que se evalue y se obtenga su posición respecto a toda la palabora que representa nuestra aceleracion respecto al tiempo $a(t)$."
   ]
  },
  {
   "cell_type": "markdown",
   "metadata": {},
   "source": [
    "**Punto 2 (5 puntos).** Evaluar los puntos críticos y extremos del intervalo y concluir cuáles son la acelaración máxima y mínima, respectivamente y en qué instante de tiempo se presentan."
   ]
  },
  {
   "cell_type": "markdown",
   "metadata": {},
   "source": [
    "**Solución punto 2**"
   ]
  },
  {
   "cell_type": "code",
   "execution_count": 86,
   "metadata": {},
   "outputs": [],
   "source": [
    "# Convertir función simbólica (a) a una función numérica\n",
    "fnum = sym.lambdify(t,a)"
   ]
  },
  {
   "cell_type": "code",
   "execution_count": 87,
   "metadata": {},
   "outputs": [
    {
     "data": {
      "text/plain": [
       "21.52288169482994"
      ]
     },
     "execution_count": 87,
     "metadata": {},
     "output_type": "execute_result"
    }
   ],
   "source": [
    "#Evaluar los puntos criticos \n",
    "fnum(23.1157)"
   ]
  },
  {
   "cell_type": "code",
   "execution_count": 88,
   "metadata": {},
   "outputs": [
    {
     "data": {
      "text/plain": [
       "62.868576000000004"
      ]
     },
     "execution_count": 88,
     "metadata": {},
     "output_type": "execute_result"
    }
   ],
   "source": [
    "#Evaluar la velocidad final\n",
    "fnum(126)"
   ]
  },
  {
   "cell_type": "markdown",
   "metadata": {},
   "source": [
    "Ahora bien que se evaluo la función de aceleracion $a(t)$ en los puntos minimos y máximos de nuestro intervalo de tiempo $t$ $(0,126)$ , como solo se obtuvo un punto critico, podemos observar que por el tipo de función resultara una parabola, por lo cual nuestro punto será un minimo porque el cuadrado es positivo, podemos deducir que tenemos una aceleración minima de 21.5228 cuando nuestro tiempo es igual a $t=23.1157$ entonces $a(23.1157) = 21.5228$, de igual manera se cuenta con una aceleración máxima en nuestro intervalo, que es cuando el $t$ es de 126 que se traduce al momento en que los cohetes se desprenden, nuestra aceleración para este caso es de $a(126) = 62.8685$.\n",
    "\n"
   ]
  },
  {
   "cell_type": "markdown",
   "metadata": {},
   "source": [
    "**Punto 3 (10 puntos).** Graficar la aceleración respecto al tiempo junto con los puntos máximos y mínimos encontrados en el punto anterior."
   ]
  },
  {
   "cell_type": "markdown",
   "metadata": {},
   "source": [
    "**Solución punto 3.**"
   ]
  },
  {
   "cell_type": "code",
   "execution_count": 89,
   "metadata": {},
   "outputs": [],
   "source": [
    "# Definir coordenas a\n",
    "xnum = np.linspace(0,126,100)\n",
    "ynum = fnum(xnum)"
   ]
  },
  {
   "cell_type": "code",
   "execution_count": 90,
   "metadata": {},
   "outputs": [
    {
     "data": {
      "text/plain": [
       "((100,), (100,))"
      ]
     },
     "execution_count": 90,
     "metadata": {},
     "output_type": "execute_result"
    }
   ],
   "source": [
    "xnum.shape, ynum.shape"
   ]
  },
  {
   "cell_type": "code",
   "execution_count": 91,
   "metadata": {},
   "outputs": [
    {
     "data": {
      "image/png": "[encoded data removed]",
      "text/plain": [
       "<Figure size 1000x800 with 1 Axes>"
      ]
     },
     "metadata": {},
     "output_type": "display_data"
    }
   ],
   "source": [
    "# Graficar\n",
    "# Crear nueva ventana de gráficos y se da medida a la ventana\n",
    "plt.figure(figsize=(10,8))\n",
    "\n",
    "#Agregar gráficas\n",
    "plt.plot(xnum, ynum, \"-.k\", lw=2, label=\"$v = 0.003906t^2 - 0.18058t + 23.61$\")\n",
    "plt.plot([23.1157],[21.5228],\"*y\", ms=20, label=\"$(23.1157,21.5228)$\")\n",
    "plt.plot([23.1157],[21.5228],'pr',ms=10,label='Punto mínimo en el intervalo')\n",
    "plt.plot([126],[62.8685],'pg',ms=10,label='Punto máximo en el intervalo')\n",
    "\n",
    "#Nombrar los ejes de la gráfica\n",
    "plt.xlabel(\"$t$\")\n",
    "plt.ylabel(\"$a$\")\n",
    "\n",
    "plt.grid()      # Agrega cuadrícula de fondo a la gráfica\n",
    "plt.legend(loc=\"best\")  \n",
    "plt.show()"
   ]
  },
  {
   "cell_type": "markdown",
   "metadata": {},
   "source": [
    "Con esto podemos concluir que con la aplicacion de la optimizacion de funciones podremos obtener de una manera más facil los valores criticos de una función, que para nuestro caso tuvieron aplicacion en la obtencion de los valores máximos y minimos de la velocidad en cierto intervalo de una función (aceleración). \n"
   ]
  },
  {
   "cell_type": "markdown",
   "metadata": {},
   "source": []
  },
  {
   "cell_type": "markdown",
   "metadata": {},
   "source": []
  },
  {
   "cell_type": "markdown",
   "metadata": {},
   "source": [
    "## Segundo punto. Programación lineal (35 puntos)."
   ]
  },
  {
   "cell_type": "markdown",
   "metadata": {},
   "source": [
    "**Enunciado.** \n",
    "\n",
    "Como gerente de una asociación de empresas para el reciclaje en la región, ha sido asignado para tomar la decisión de a quien debe venderse unos desperdicios de metal que fueron recolectados. Dos empresas: Metales Ltda. y Hierros Unidos, están interesados en la compra de los desperdicios. La primera empresa, que paga la tonelada de metal a: $\\$500$ no esta interesada en comprar mas de $500$ $toneladas$., en cambio la segunda, que esta dispuesta a pagar $\\$400$ por tonelada de metal, ofrece comprar un límite máximo de $600$ $toneladas$. Sin embargo la financiación local ha limitado las compras formulando la siguiente condición: La cantidad de desperdicio vendida a la empresa Metales Ltda, NO puede superar el doble de la cantidad vendida a Hierros Unidos.\n",
    "\n",
    "Conociendo que la asociación de empresas dispone de 1.000 toneladas de desperdicios metálicos, formule un modelo de programación lineal que permita alcanzar la mejor decisión para el gerente para obtener la mayor ganancia."
   ]
  },
  {
   "cell_type": "markdown",
   "metadata": {},
   "source": [
    "*Variables de decisión*: \n",
    "\n",
    "$x_1$ = Cantidad de toneladas de desperdicios a vender a Metales Ltda.\n",
    "\n",
    "$x_2$ = Cantidad de toneladas de desperdicios a vender a Hierros Unidos."
   ]
  },
  {
   "cell_type": "markdown",
   "metadata": {},
   "source": [
    "**Punto 1 (20 puntos).** Escriba la función a minimizar junto con las restricciones, explicando detalladamente cada paso (usando fórmulas en LaTeX, en celdas Markdown). Además escriba el problema en la forma \n",
    "\\begin{equation}\n",
    "\\begin{array}{ll}\n",
    "\\min_{\\boldsymbol{x}} & \\boldsymbol{c}^T\\boldsymbol{x} \\\\\n",
    "\\text{s. a. }        & \\boldsymbol{A}_{eq}\\boldsymbol{x}=\\boldsymbol{b}_{eq} \\\\\n",
    "                     & \\boldsymbol{A}\\boldsymbol{x}\\leq\\boldsymbol{b},\n",
    "\\end{array}\n",
    "\\end{equation}\n",
    "\n",
    "proporcionando $\\boldsymbol{c}$, $\\boldsymbol{A}$ y $\\boldsymbol{b}$ ($\\boldsymbol{A}_{eq}$ y $\\boldsymbol{b}_{eq}$, de ser necesario) como arreglos de `NumPy` (no es necesario escribir en LaTeX el problema en la forma indicada, solo proporcionar las matrices como arreglos de `NumPy`)."
   ]
  },
  {
   "cell_type": "markdown",
   "metadata": {},
   "source": [
    "**Solución punto 1.**"
   ]
  },
  {
   "cell_type": "markdown",
   "metadata": {},
   "source": [
    "Para formular el problema de programación lineal, primero definiremos las variables de decisión, la función objetivo y las restricciones.\n",
    "\n",
    "**Variables de Decisión:**\n",
    "\n",
    "Definimos dos variables de decisión:\n",
    "\n",
    "- $x_1$: La cantidad de desperdicio vendida a la empresa Metales Ltda (en toneladas).\n",
    "- $x_2$: La cantidad de desperdicio vendida a la empresa Hierros Unidos (en toneladas).\n",
    "\n",
    "**Función Objetivo:**\n",
    "\n",
    "El objetivo es maximizar la ganancia total, que se calcula como la suma de las ganancias de ambas empresas. La ganancia por tonelada vendida a Metales Ltda es de $500$, y la ganancia por tonelada vendida a Hierros Unidos es de $400$. Por lo tanto, la función objetivo es:\n",
    "\n",
    "Maximizar: $G = 500x_1 + 400x_2$\n",
    "\n",
    "**Restricciones:**\n",
    "\n",
    "1. La cantidad total de desperdicio disponible es de 1,000 toneladas:\n",
    "   $x_1 + x_2 \\leq 1,000$\n",
    "\n",
    "2. Metales Ltda no puede comprar más de 500 toneladas:\n",
    "   $x_1 \\leq 500$\n",
    "\n",
    "3. Hierros Unidos no puede comprar más de 600 toneladas:\n",
    "   $x_2 \\leq 600$\n",
    "\n",
    "4. La cantidad de desperdicio vendida a Metales Ltda no puede superar el doble de la cantidad vendida a Hierros Unidos:\n",
    "   $x_1 \\leq 2x_2$\n",
    "\n",
    "Ahora, formularemos este problema en la forma estándar de programación lineal:\n",
    "\n",
    "\n",
    "**Matrices y Vectores:**\n",
    "\n",
    "$c = [-500, -400]$\n",
    "\n",
    "\n",
    "$A = \\begin{bmatrix}\n",
    "1 & 1 \\\\\n",
    "1 & 0 \\\\\n",
    "0 & 1 \\\\\n",
    "1 & -2\n",
    "\\end{bmatrix}$\n",
    "\n",
    "\n",
    "$b = [1000, 500, 600, 0]$\n",
    "\n",
    "Con esto, hemos formulado el problema en la forma estándar de programación lineal y proporcionado las matrices y vectores correspondientes."
   ]
  },
  {
   "cell_type": "markdown",
   "metadata": {},
   "source": [
    "**Punto 2 (15 puntos).** Resuelva el problema utilizando la función `linprog`. ¿Cuántos toneladas hay que vender a cada empresa?"
   ]
  },
  {
   "cell_type": "markdown",
   "metadata": {},
   "source": [
    "**Solución punto 2.**"
   ]
  },
  {
   "cell_type": "code",
   "execution_count": 96,
   "metadata": {},
   "outputs": [],
   "source": [
    "# Importar el módulo optimize de la librería scipy\n",
    "import numpy as np\n",
    "import scipy.optimize as opt"
   ]
  },
  {
   "cell_type": "code",
   "execution_count": null,
   "metadata": {},
   "outputs": [],
   "source": []
  },
  {
   "cell_type": "code",
   "execution_count": 101,
   "metadata": {},
   "outputs": [],
   "source": [
    "c = np.array([-500, -400])\n",
    "b = np.array([1000,500,600,0])\n",
    "A = np.array([[1,1],\n",
    "             [1,0],\n",
    "             [0,1],\n",
    "             [-1,2]])"
   ]
  },
  {
   "cell_type": "code",
   "execution_count": 102,
   "metadata": {},
   "outputs": [
    {
     "data": {
      "text/plain": [
       "(array([-500, -400]),\n",
       " array([1000,  500,  600,    0]),\n",
       " array([[ 1,  1],\n",
       "        [ 1,  0],\n",
       "        [ 0,  1],\n",
       "        [-1,  2]]))"
      ]
     },
     "execution_count": 102,
     "metadata": {},
     "output_type": "execute_result"
    }
   ],
   "source": [
    "c,b,A"
   ]
  },
  {
   "cell_type": "code",
   "execution_count": 103,
   "metadata": {},
   "outputs": [],
   "source": [
    "sol_farma = opt.linprog(c, A_ub=A, b_ub=b)"
   ]
  },
  {
   "cell_type": "code",
   "execution_count": 104,
   "metadata": {},
   "outputs": [
    {
     "data": {
      "text/plain": [
       "        message: Optimization terminated successfully. (HiGHS Status 7: Optimal)\n",
       "        success: True\n",
       "         status: 0\n",
       "            fun: -350000.0\n",
       "              x: [ 5.000e+02  2.500e+02]\n",
       "            nit: 0\n",
       "          lower:  residual: [ 5.000e+02  2.500e+02]\n",
       "                 marginals: [ 0.000e+00  0.000e+00]\n",
       "          upper:  residual: [       inf        inf]\n",
       "                 marginals: [ 0.000e+00  0.000e+00]\n",
       "          eqlin:  residual: []\n",
       "                 marginals: []\n",
       "        ineqlin:  residual: [ 2.500e+02  0.000e+00  3.500e+02  0.000e+00]\n",
       "                 marginals: [-0.000e+00 -7.000e+02 -0.000e+00 -2.000e+02]\n",
       " mip_node_count: 0\n",
       " mip_dual_bound: 0.0\n",
       "        mip_gap: 0.0"
      ]
     },
     "execution_count": 104,
     "metadata": {},
     "output_type": "execute_result"
    }
   ],
   "source": [
    "sol_farma"
   ]
  },
  {
   "cell_type": "code",
   "execution_count": 141,
   "metadata": {},
   "outputs": [
    {
     "data": {
      "text/plain": [
       "array([500., 250.])"
      ]
     },
     "execution_count": 141,
     "metadata": {},
     "output_type": "execute_result"
    }
   ],
   "source": [
    "x = sol_farma.x\n",
    "x"
   ]
  },
  {
   "cell_type": "markdown",
   "metadata": {},
   "source": [
    "#### ¿Cuántos toneladas hay que vender a cada empresa?\n",
    "\n",
    "\n",
    "Una vez que se soluciono nuestro problema se arrojan dos resultados, uno para $x_1$ y el otro para el caso de $x_2$, que son de $500$ y $250$ respectivamente, al traducir esto para darle soloción a nuestro problema podemos decir que para obtener una gananancia maxima y cumplir con las restricciones debemos vender $500$ toneladas a Metales Ltda que nos representa $x_1$ y devemos vender por lo tanto la cantidad de $250$ toneladas a la empresa Hierros unidos que nos representa $x_2$.\n",
    "\n",
    "De igual manera nuestra funcional que es de -350,000 que podriamos decir que es la ganancia, pero para este caso al representar ventas no podremos obtener una gancia negativa por lo tanto podremos decir que nuestra ganancia máxima seria de $350000$ que nos representa los resultados anteriores y si comprobamos con los costos por tonelada para cada empresa podemos decir que efectivamente esa es la ganancia que se obtien. "
   ]
  },
  {
   "cell_type": "markdown",
   "metadata": {},
   "source": [
    "## Tercer punto. Ajuste de curvas (35 puntos).\n",
    "\n",
    "**Enunciado**. El archivo `population_urban.csv` contiene información histórica anual de México relativa a el % de población urbana.\n",
    "\n",
    "**Punto 1 (10 puntos).** Importar los datos en un DataFrame de pandas."
   ]
  },
  {
   "cell_type": "markdown",
   "metadata": {},
   "source": [
    "**Solución punto 1.**"
   ]
  },
  {
   "cell_type": "code",
   "execution_count": 110,
   "metadata": {},
   "outputs": [],
   "source": [
    "import pandas as pd"
   ]
  },
  {
   "cell_type": "code",
   "execution_count": 122,
   "metadata": {},
   "outputs": [
    {
     "data": {
      "text/html": [
       "<div>\n",
       "<style scoped>\n",
       "    .dataframe tbody tr th:only-of-type {\n",
       "        vertical-align: middle;\n",
       "    }\n",
       "\n",
       "    .dataframe tbody tr th {\n",
       "        vertical-align: top;\n",
       "    }\n",
       "\n",
       "    .dataframe thead th {\n",
       "        text-align: right;\n",
       "    }\n",
       "</style>\n",
       "<table border=\"1\" class=\"dataframe\">\n",
       "  <thead>\n",
       "    <tr style=\"text-align: right;\">\n",
       "      <th></th>\n",
       "      <th>Year</th>\n",
       "      <th>Urban population (% of total)</th>\n",
       "    </tr>\n",
       "  </thead>\n",
       "  <tbody>\n",
       "    <tr>\n",
       "      <th>0</th>\n",
       "      <td>1960</td>\n",
       "      <td>50.753</td>\n",
       "    </tr>\n",
       "    <tr>\n",
       "      <th>1</th>\n",
       "      <td>1961</td>\n",
       "      <td>51.590</td>\n",
       "    </tr>\n",
       "    <tr>\n",
       "      <th>2</th>\n",
       "      <td>1962</td>\n",
       "      <td>52.428</td>\n",
       "    </tr>\n",
       "    <tr>\n",
       "      <th>3</th>\n",
       "      <td>1963</td>\n",
       "      <td>53.265</td>\n",
       "    </tr>\n",
       "    <tr>\n",
       "      <th>4</th>\n",
       "      <td>1964</td>\n",
       "      <td>54.100</td>\n",
       "    </tr>\n",
       "    <tr>\n",
       "      <th>5</th>\n",
       "      <td>1965</td>\n",
       "      <td>54.931</td>\n",
       "    </tr>\n",
       "    <tr>\n",
       "      <th>6</th>\n",
       "      <td>1966</td>\n",
       "      <td>55.761</td>\n",
       "    </tr>\n",
       "    <tr>\n",
       "      <th>7</th>\n",
       "      <td>1967</td>\n",
       "      <td>56.587</td>\n",
       "    </tr>\n",
       "    <tr>\n",
       "      <th>8</th>\n",
       "      <td>1968</td>\n",
       "      <td>57.411</td>\n",
       "    </tr>\n",
       "    <tr>\n",
       "      <th>9</th>\n",
       "      <td>1969</td>\n",
       "      <td>58.229</td>\n",
       "    </tr>\n",
       "    <tr>\n",
       "      <th>10</th>\n",
       "      <td>1970</td>\n",
       "      <td>59.021</td>\n",
       "    </tr>\n",
       "    <tr>\n",
       "      <th>11</th>\n",
       "      <td>1971</td>\n",
       "      <td>59.779</td>\n",
       "    </tr>\n",
       "    <tr>\n",
       "      <th>12</th>\n",
       "      <td>1972</td>\n",
       "      <td>60.532</td>\n",
       "    </tr>\n",
       "    <tr>\n",
       "      <th>13</th>\n",
       "      <td>1973</td>\n",
       "      <td>61.279</td>\n",
       "    </tr>\n",
       "    <tr>\n",
       "      <th>14</th>\n",
       "      <td>1974</td>\n",
       "      <td>62.022</td>\n",
       "    </tr>\n",
       "    <tr>\n",
       "      <th>15</th>\n",
       "      <td>1975</td>\n",
       "      <td>62.759</td>\n",
       "    </tr>\n",
       "    <tr>\n",
       "      <th>16</th>\n",
       "      <td>1976</td>\n",
       "      <td>63.491</td>\n",
       "    </tr>\n",
       "    <tr>\n",
       "      <th>17</th>\n",
       "      <td>1977</td>\n",
       "      <td>64.215</td>\n",
       "    </tr>\n",
       "    <tr>\n",
       "      <th>18</th>\n",
       "      <td>1978</td>\n",
       "      <td>64.934</td>\n",
       "    </tr>\n",
       "    <tr>\n",
       "      <th>19</th>\n",
       "      <td>1979</td>\n",
       "      <td>65.646</td>\n",
       "    </tr>\n",
       "    <tr>\n",
       "      <th>20</th>\n",
       "      <td>1980</td>\n",
       "      <td>66.339</td>\n",
       "    </tr>\n",
       "    <tr>\n",
       "      <th>21</th>\n",
       "      <td>1981</td>\n",
       "      <td>66.870</td>\n",
       "    </tr>\n",
       "    <tr>\n",
       "      <th>22</th>\n",
       "      <td>1982</td>\n",
       "      <td>67.396</td>\n",
       "    </tr>\n",
       "    <tr>\n",
       "      <th>23</th>\n",
       "      <td>1983</td>\n",
       "      <td>67.919</td>\n",
       "    </tr>\n",
       "    <tr>\n",
       "      <th>24</th>\n",
       "      <td>1984</td>\n",
       "      <td>68.437</td>\n",
       "    </tr>\n",
       "    <tr>\n",
       "      <th>25</th>\n",
       "      <td>1985</td>\n",
       "      <td>68.950</td>\n",
       "    </tr>\n",
       "    <tr>\n",
       "      <th>26</th>\n",
       "      <td>1986</td>\n",
       "      <td>69.459</td>\n",
       "    </tr>\n",
       "    <tr>\n",
       "      <th>27</th>\n",
       "      <td>1987</td>\n",
       "      <td>69.963</td>\n",
       "    </tr>\n",
       "    <tr>\n",
       "      <th>28</th>\n",
       "      <td>1988</td>\n",
       "      <td>70.462</td>\n",
       "    </tr>\n",
       "    <tr>\n",
       "      <th>29</th>\n",
       "      <td>1989</td>\n",
       "      <td>70.956</td>\n",
       "    </tr>\n",
       "    <tr>\n",
       "      <th>30</th>\n",
       "      <td>1990</td>\n",
       "      <td>71.419</td>\n",
       "    </tr>\n",
       "    <tr>\n",
       "      <th>31</th>\n",
       "      <td>1991</td>\n",
       "      <td>71.816</td>\n",
       "    </tr>\n",
       "    <tr>\n",
       "      <th>32</th>\n",
       "      <td>1992</td>\n",
       "      <td>72.209</td>\n",
       "    </tr>\n",
       "    <tr>\n",
       "      <th>33</th>\n",
       "      <td>1993</td>\n",
       "      <td>72.598</td>\n",
       "    </tr>\n",
       "    <tr>\n",
       "      <th>34</th>\n",
       "      <td>1994</td>\n",
       "      <td>72.985</td>\n",
       "    </tr>\n",
       "    <tr>\n",
       "      <th>35</th>\n",
       "      <td>1995</td>\n",
       "      <td>73.368</td>\n",
       "    </tr>\n",
       "    <tr>\n",
       "      <th>36</th>\n",
       "      <td>1996</td>\n",
       "      <td>73.670</td>\n",
       "    </tr>\n",
       "    <tr>\n",
       "      <th>37</th>\n",
       "      <td>1997</td>\n",
       "      <td>73.929</td>\n",
       "    </tr>\n",
       "    <tr>\n",
       "      <th>38</th>\n",
       "      <td>1998</td>\n",
       "      <td>74.186</td>\n",
       "    </tr>\n",
       "    <tr>\n",
       "      <th>39</th>\n",
       "      <td>1999</td>\n",
       "      <td>74.441</td>\n",
       "    </tr>\n",
       "    <tr>\n",
       "      <th>40</th>\n",
       "      <td>2000</td>\n",
       "      <td>74.722</td>\n",
       "    </tr>\n",
       "    <tr>\n",
       "      <th>41</th>\n",
       "      <td>2001</td>\n",
       "      <td>75.045</td>\n",
       "    </tr>\n",
       "    <tr>\n",
       "      <th>42</th>\n",
       "      <td>2002</td>\n",
       "      <td>75.365</td>\n",
       "    </tr>\n",
       "    <tr>\n",
       "      <th>43</th>\n",
       "      <td>2003</td>\n",
       "      <td>75.682</td>\n",
       "    </tr>\n",
       "    <tr>\n",
       "      <th>44</th>\n",
       "      <td>2004</td>\n",
       "      <td>75.997</td>\n",
       "    </tr>\n",
       "    <tr>\n",
       "      <th>45</th>\n",
       "      <td>2005</td>\n",
       "      <td>76.308</td>\n",
       "    </tr>\n",
       "    <tr>\n",
       "      <th>46</th>\n",
       "      <td>2006</td>\n",
       "      <td>76.616</td>\n",
       "    </tr>\n",
       "    <tr>\n",
       "      <th>47</th>\n",
       "      <td>2007</td>\n",
       "      <td>76.920</td>\n",
       "    </tr>\n",
       "    <tr>\n",
       "      <th>48</th>\n",
       "      <td>2008</td>\n",
       "      <td>77.222</td>\n",
       "    </tr>\n",
       "    <tr>\n",
       "      <th>49</th>\n",
       "      <td>2009</td>\n",
       "      <td>77.520</td>\n",
       "    </tr>\n",
       "    <tr>\n",
       "      <th>50</th>\n",
       "      <td>2010</td>\n",
       "      <td>77.815</td>\n",
       "    </tr>\n",
       "    <tr>\n",
       "      <th>51</th>\n",
       "      <td>2011</td>\n",
       "      <td>78.111</td>\n",
       "    </tr>\n",
       "    <tr>\n",
       "      <th>52</th>\n",
       "      <td>2012</td>\n",
       "      <td>78.405</td>\n",
       "    </tr>\n",
       "    <tr>\n",
       "      <th>53</th>\n",
       "      <td>2013</td>\n",
       "      <td>78.699</td>\n",
       "    </tr>\n",
       "    <tr>\n",
       "      <th>54</th>\n",
       "      <td>2014</td>\n",
       "      <td>78.993</td>\n",
       "    </tr>\n",
       "    <tr>\n",
       "      <th>55</th>\n",
       "      <td>2015</td>\n",
       "      <td>79.285</td>\n",
       "    </tr>\n",
       "    <tr>\n",
       "      <th>56</th>\n",
       "      <td>2016</td>\n",
       "      <td>79.577</td>\n",
       "    </tr>\n",
       "    <tr>\n",
       "      <th>57</th>\n",
       "      <td>2017</td>\n",
       "      <td>79.867</td>\n",
       "    </tr>\n",
       "    <tr>\n",
       "      <th>58</th>\n",
       "      <td>2018</td>\n",
       "      <td>80.156</td>\n",
       "    </tr>\n",
       "    <tr>\n",
       "      <th>59</th>\n",
       "      <td>2019</td>\n",
       "      <td>80.444</td>\n",
       "    </tr>\n",
       "  </tbody>\n",
       "</table>\n",
       "</div>"
      ],
      "text/plain": [
       "    Year  Urban population (% of total)\n",
       "0   1960                         50.753\n",
       "1   1961                         51.590\n",
       "2   1962                         52.428\n",
       "3   1963                         53.265\n",
       "4   1964                         54.100\n",
       "5   1965                         54.931\n",
       "6   1966                         55.761\n",
       "7   1967                         56.587\n",
       "8   1968                         57.411\n",
       "9   1969                         58.229\n",
       "10  1970                         59.021\n",
       "11  1971                         59.779\n",
       "12  1972                         60.532\n",
       "13  1973                         61.279\n",
       "14  1974                         62.022\n",
       "15  1975                         62.759\n",
       "16  1976                         63.491\n",
       "17  1977                         64.215\n",
       "18  1978                         64.934\n",
       "19  1979                         65.646\n",
       "20  1980                         66.339\n",
       "21  1981                         66.870\n",
       "22  1982                         67.396\n",
       "23  1983                         67.919\n",
       "24  1984                         68.437\n",
       "25  1985                         68.950\n",
       "26  1986                         69.459\n",
       "27  1987                         69.963\n",
       "28  1988                         70.462\n",
       "29  1989                         70.956\n",
       "30  1990                         71.419\n",
       "31  1991                         71.816\n",
       "32  1992                         72.209\n",
       "33  1993                         72.598\n",
       "34  1994                         72.985\n",
       "35  1995                         73.368\n",
       "36  1996                         73.670\n",
       "37  1997                         73.929\n",
       "38  1998                         74.186\n",
       "39  1999                         74.441\n",
       "40  2000                         74.722\n",
       "41  2001                         75.045\n",
       "42  2002                         75.365\n",
       "43  2003                         75.682\n",
       "44  2004                         75.997\n",
       "45  2005                         76.308\n",
       "46  2006                         76.616\n",
       "47  2007                         76.920\n",
       "48  2008                         77.222\n",
       "49  2009                         77.520\n",
       "50  2010                         77.815\n",
       "51  2011                         78.111\n",
       "52  2012                         78.405\n",
       "53  2013                         78.699\n",
       "54  2014                         78.993\n",
       "55  2015                         79.285\n",
       "56  2016                         79.577\n",
       "57  2017                         79.867\n",
       "58  2018                         80.156\n",
       "59  2019                         80.444"
      ]
     },
     "execution_count": 122,
     "metadata": {},
     "output_type": "execute_result"
    }
   ],
   "source": [
    "\n",
    "# Especifica la ruta del archivo Excel\n",
    "arch = \"population_urban.xlsx\"\n",
    "\n",
    "# Lee el archivo Excel y almacena los datos en un DataFrame\n",
    "poblacion= pd.read_excel(arch, sheet_name= 'population_urban')\n",
    "\n",
    "# Ahora, \"dataframe\" contiene tus datos en un formato tabular\n",
    "poblacion"
   ]
  },
  {
   "cell_type": "markdown",
   "metadata": {},
   "source": [
    "**Punto 2 (15 puntos).** Usando los años como variable independiente $x$ y la población como variable dependiente $y$, ajustar polinomios de grado 1 hasta grado 3.\n",
    "\n",
    "**En caso de ser necesario, aplique el escalado de características usando el método de normalización**\n",
    "\n",
    "Mostrar en un solo gráfico los datos de población contra los años, y los polinomios ajustados.\n",
    "\n",
    "Graficar el error cuadrático acumulado contra el número de términos. ¿Cuál es el polinomio que mejor se ajusta?"
   ]
  },
  {
   "cell_type": "markdown",
   "metadata": {},
   "source": [
    "**Solución punto 2.**"
   ]
  },
  {
   "cell_type": "code",
   "execution_count": 247,
   "metadata": {},
   "outputs": [],
   "source": [
    "import matplotlib.pyplot as plt\n",
    "import numpy as np"
   ]
  },
  {
   "cell_type": "code",
   "execution_count": 225,
   "metadata": {},
   "outputs": [],
   "source": [
    "x = poblacion[\"Year\"]\n",
    "y = poblacion[\"Urban population (% of total)\"]\n",
    "\n",
    "# Preprocesamiento de los datos\n",
    "min_x1, min_y1 = min(x), min(y)\n",
    "max_x1, max_y1 = max(x), max(y)\n",
    "\n",
    "x_norm = (x - min_x1)/(max_x1 - min_x1)\n",
    "y_norm = (y - min_y1)/(max_y1 - min_y1)\n",
    "\n"
   ]
  },
  {
   "cell_type": "code",
   "execution_count": 226,
   "metadata": {},
   "outputs": [],
   "source": [
    "# Definir funcion objetivo y semilla\n",
    "def obj_n(beta, x, y, n):\n",
    "    yhat = beta.dot([x**i for i in range(n)])\n",
    "    error = y-yhat\n",
    "    return np.sum(error**2)\n",
    "\n",
    "beta_inicial = np.zeros(2)"
   ]
  },
  {
   "cell_type": "code",
   "execution_count": 227,
   "metadata": {},
   "outputs": [
    {
     "data": {
      "text/plain": [
       "  message: Optimization terminated successfully.\n",
       "  success: True\n",
       "   status: 0\n",
       "      fun: 0.21942880331130346\n",
       "        x: [ 1.340e-01  9.598e-01]\n",
       "      nit: 7\n",
       "      jac: [ 2.421e-08  2.049e-08]\n",
       " hess_inv: [[ 3.252e-02 -4.837e-02]\n",
       "            [-4.837e-02  9.674e-02]]\n",
       "     nfev: 24\n",
       "     njev: 8"
      ]
     },
     "execution_count": 227,
     "metadata": {},
     "output_type": "execute_result"
    }
   ],
   "source": [
    "# Resolver\n",
    "sol1 = opt.minimize(obj1, beta_inicial, args=(x_norm,y_norm))\n",
    "sol1"
   ]
  },
  {
   "cell_type": "code",
   "execution_count": 240,
   "metadata": {},
   "outputs": [
    {
     "data": {
      "text/plain": [
       "array([0.13400598, 0.9598281 ])"
      ]
     },
     "execution_count": 240,
     "metadata": {},
     "output_type": "execute_result"
    }
   ],
   "source": [
    "beta1 = sol1.x\n",
    "beta1 "
   ]
  },
  {
   "cell_type": "code",
   "execution_count": 228,
   "metadata": {},
   "outputs": [],
   "source": [
    "beta_inicial = np.zeros(3)"
   ]
  },
  {
   "cell_type": "code",
   "execution_count": 229,
   "metadata": {},
   "outputs": [
    {
     "data": {
      "text/plain": [
       "  message: Optimization terminated successfully.\n",
       "  success: True\n",
       "   status: 0\n",
       "      fun: 0.009348386377975828\n",
       "        x: [ 8.148e-03  1.728e+00 -7.682e-01]\n",
       "      nit: 8\n",
       "      jac: [-8.149e-10 -2.328e-10 -1.164e-09]\n",
       " hess_inv: [[ 7.019e-02 -2.783e-01  2.300e-01]\n",
       "            [-2.783e-01  1.500e+00 -1.404e+00]\n",
       "            [ 2.300e-01 -1.404e+00  1.404e+00]]\n",
       "     nfev: 40\n",
       "     njev: 10"
      ]
     },
     "execution_count": 229,
     "metadata": {},
     "output_type": "execute_result"
    }
   ],
   "source": [
    "# Resolver\n",
    "sol2 = opt.minimize(obj2, beta_inicial,args=(x_norm,y_norm))\n",
    "sol2"
   ]
  },
  {
   "cell_type": "code",
   "execution_count": 230,
   "metadata": {},
   "outputs": [
    {
     "data": {
      "text/plain": [
       "array([ 0.00814781,  1.72799696, -0.76816886])"
      ]
     },
     "execution_count": 230,
     "metadata": {},
     "output_type": "execute_result"
    }
   ],
   "source": [
    "# Mostrar coeficientes\n",
    "beta2 = sol2.x\n",
    "beta2 "
   ]
  },
  {
   "cell_type": "code",
   "execution_count": 231,
   "metadata": {},
   "outputs": [],
   "source": [
    "beta_inicial = np.zeros(4)"
   ]
  },
  {
   "cell_type": "code",
   "execution_count": 232,
   "metadata": {},
   "outputs": [
    {
     "data": {
      "text/plain": [
       "  message: Optimization terminated successfully.\n",
       "  success: True\n",
       "   status: 0\n",
       "      fun: 0.0024164080961928407\n",
       "        x: [-1.758e-02  2.050e+00 -1.581e+00  5.419e-01]\n",
       "      nit: 11\n",
       "      jac: [ 1.453e-06  1.534e-06 -1.569e-07  4.162e-07]\n",
       " hess_inv: [[ 1.175e-01 -8.676e-01  1.716e+00 -9.909e-01]\n",
       "            [-8.676e-01  8.890e+00 -2.005e+01  1.244e+01]\n",
       "            [ 1.716e+00 -2.005e+01  4.845e+01 -3.138e+01]\n",
       "            [-9.909e-01  1.244e+01 -3.138e+01  2.093e+01]]\n",
       "     nfev: 65\n",
       "     njev: 13"
      ]
     },
     "execution_count": 232,
     "metadata": {},
     "output_type": "execute_result"
    }
   ],
   "source": [
    "# Resolver\n",
    "sol3 = opt.minimize(obj_n, beta_inicial, args=(x_norm,y_norm, 4))\n",
    "sol3"
   ]
  },
  {
   "cell_type": "code",
   "execution_count": 233,
   "metadata": {},
   "outputs": [
    {
     "data": {
      "text/plain": [
       "array([-0.01758457,  2.0504043 , -1.58099447,  0.54188238])"
      ]
     },
     "execution_count": 233,
     "metadata": {},
     "output_type": "execute_result"
    }
   ],
   "source": [
    "# Mostrar coeficientes\n",
    "beta3 = sol3.x\n",
    "beta3"
   ]
  },
  {
   "cell_type": "markdown",
   "metadata": {},
   "source": [
    "### Gráfico los datos de población contra los años, y los polinomios ajustados."
   ]
  },
  {
   "cell_type": "code",
   "execution_count": 244,
   "metadata": {},
   "outputs": [
    {
     "data": {
      "image/png": "[encoded data removed]",
      "text/plain": [
       "<Figure size 800x600 with 1 Axes>"
      ]
     },
     "metadata": {},
     "output_type": "display_data"
    }
   ],
   "source": [
    "yhat1 = (beta1.dot([x_norm**i for i in range(2)]))*(max_y1 - min_y1) + min_y1 \n",
    "yhat2 = (beta2.dot([x_norm**i for i in range(3)]))*(max_y1 - min_y1) + min_y1\n",
    "yhat3 = (beta3.dot([x_norm**i for i in range(4)]))*(max_y1 - min_y1) + min_y1\n",
    "\n",
    "# Graficar\n",
    "plt.figure(figsize=(8,6))\n",
    "\n",
    "#Agregar puntos y línea ajustada\n",
    "plt.plot(x,y,'*b',ms = 12, label='Puntos a ajustar')\n",
    "plt.plot(x,yhat1,'k',lw=5,label='Recta ajustada')\n",
    "plt.plot(x,yhat2,'r',lw=5,label='Parábola ajustada')\n",
    "plt.plot(x,yhat3,'g',lw=5,label='Polinomio de grado 3 ajustado')\n",
    "\n",
    "plt.xlabel('$Años$',fontsize=10)\n",
    "plt.ylabel('$Población$',fontsize=10)\n",
    "\n",
    "plt.grid()\n",
    "plt.legend(loc='best')\n",
    "plt.show()"
   ]
  },
  {
   "cell_type": "code",
   "execution_count": 250,
   "metadata": {},
   "outputs": [
    {
     "data": {
      "image/png": "[encoded data removed]",
      "text/plain": [
       "<Figure size 800x700 with 1 Axes>"
      ]
     },
     "metadata": {},
     "output_type": "display_data"
    }
   ],
   "source": [
    "# Error cuadratico\n",
    "e = [sol1.fun, sol2.fun, sol3.fun]  # Agrega sol6.fun si tienes un ajuste de grado 6\n",
    "grados = [1, 2, 3]\n",
    "\n",
    "plt.figure(figsize=(8,7))\n",
    "plt.plot(grados, e, 'ob-', ms=10, label='errores')\n",
    "plt.legend()\n",
    "plt.xlabel('Grados del polinomio', fontsize=10)\n",
    "plt.ylabel('Errores', fontsize=10)\n",
    "plt.show()"
   ]
  },
  {
   "cell_type": "code",
   "execution_count": 251,
   "metadata": {},
   "outputs": [
    {
     "data": {
      "text/plain": [
       "[0.21942880331130346, 0.009348386377975828, 0.0024164080961928407]"
      ]
     },
     "execution_count": 251,
     "metadata": {},
     "output_type": "execute_result"
    }
   ],
   "source": [
    "e"
   ]
  },
  {
   "cell_type": "markdown",
   "metadata": {},
   "source": [
    "#### ¿Cuál es el polinomio que mejor se ajusta?\n",
    "Como podemos observar el polinomio que mejor se ajusta es el de grado tres y al graficar el error cuadratico su coeficiente es menor en comparación a los demás, por lo que podriamos decir que es el polinomio adecuado para nuestra función dada. "
   ]
  },
  {
   "cell_type": "markdown",
   "metadata": {},
   "source": [
    "**Punto 3 (10 puntos).** Con los polinomios ajustados en el punto anterior, estime la población en el año 2019  y compare con el dato real 80.444%.\n",
    "\n",
    "¿Cuál polinomio estima mejor este dato? ¿Es el polinomio que mejor se ajusta? Concluya."
   ]
  },
  {
   "cell_type": "markdown",
   "metadata": {},
   "source": [
    "**Solución punto 3.**"
   ]
  },
  {
   "cell_type": "code",
   "execution_count": 269,
   "metadata": {},
   "outputs": [],
   "source": [
    "a_2019_norm = (2019 - min(x)) / (max(x) - min(x))"
   ]
  },
  {
   "cell_type": "code",
   "execution_count": 270,
   "metadata": {},
   "outputs": [
    {
     "data": {
      "text/plain": [
       "83.23002787921597"
      ]
     },
     "execution_count": 270,
     "metadata": {},
     "output_type": "execute_result"
    }
   ],
   "source": [
    "p1_2019 =(beta1.dot([ano_2019_norm**i for i in range(2)])) * (max(y) - min(y)) + min(y)\n",
    "p1_2019"
   ]
  },
  {
   "cell_type": "code",
   "execution_count": 271,
   "metadata": {},
   "outputs": [
    {
     "data": {
      "text/plain": [
       "79.4931728098116"
      ]
     },
     "execution_count": 271,
     "metadata": {},
     "output_type": "execute_result"
    }
   ],
   "source": [
    "p2_2019 =(beta2.dot([ano_2019_norm**i for i in range(3)])) * (max(y) - min(y)) + min(y)\n",
    "p2_2019"
   ]
  },
  {
   "cell_type": "code",
   "execution_count": 272,
   "metadata": {},
   "outputs": [
    {
     "data": {
      "text/plain": [
       "80.25717378169271"
      ]
     },
     "execution_count": 272,
     "metadata": {},
     "output_type": "execute_result"
    }
   ],
   "source": [
    "p3_2019 =(beta3.dot([ano_2019_norm**i for i in range(4)])) * (max(y) - min(y)) + min(y)\n",
    "p3_2019"
   ]
  },
  {
   "cell_type": "markdown",
   "metadata": {},
   "source": [
    "#### ¿Cuál polinomio estima mejor este dato? ¿Es el polinomio que mejor se ajusta?\n",
    "Al realizar la estimación de la poblacion para los tres polinomios que tenemos podemos observar que el que mejor se acerca a los datos es tercer grado que nos da como resultado una población de 80.2571% mientras que la población proporcionada para ese año es 80.444%, por lo que podriamos considerar el error aceptable; en los otros dos polinomos los datos estan desfasado por un error más grande como se puede observar en la gráfica del error cuadratico.\n",
    "\n",
    "Con esto podemos aplicar nuestro polinomio de grado 3 y determinar cual seria la población a x número de años. Con la capacidad de ajustar curvas utilizando polinomios podemos estimar poblaciones futuras en función de los datos históricos, se abre un mundo de posibilidades en diversas áreas de conocimiento. Esta técnica no solo es útil para estimar poblaciones futuras, sino que también puede aplicarse en una amplia variedad de campos, lo que permite realizar predicciones y comprender mejor el comportamiento de diferentes variables en el tiempo.que se puede alplicar no solo en esto si no que otras areas de conocimiento para determinar los futuros cambios, ya sea de población y otras variables en cierto campo de aplicación. "
   ]
  }
 ],
 "metadata": {
  "kernelspec": {
   "display_name": "Python 3 (ipykernel)",
   "language": "python",
   "name": "python3"
  },
  "language_info": {
   "codemirror_mode": {
    "name": "ipython",
    "version": 3
   },
   "file_extension": ".py",
   "mimetype": "text/x-python",
   "name": "python",
   "nbconvert_exporter": "python",
   "pygments_lexer": "ipython3",
   "version": "3.11.4"
  }
 },
 "nbformat": 4,
 "nbformat_minor": 2
}
