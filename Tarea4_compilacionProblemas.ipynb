{
 "cells": [
  {
   "cell_type": "markdown",
   "metadata": {},
   "source": [
    "# Tarea 4 - Compilación de problemas Módulo 1 - Optimización. \n",
    "Lea cuidadosamente las siguientes **indicaciones** antes de comenzar la tarea:\n",
    "- Para resolver la tarea edite este mismo archivo y renómbrelo de la siguiente manera: *E1_ApellidoNombre*, donde *ApellidoNombre* corresponde a su apellido paterno con la inicial en mayúscula, seguido de su primer nombre con la inicial en mayúscula **sin acentos**. Por ejemplo, en mi caso el nombre del archivo sería *E1_JaramilloZuluaga*.\n",
    "- Resuelva los puntos en el espacio provisto. Si requiere agregar más celdas para código o escritura, hágalo.\n",
    "- Recuerde que también se está evaluando su capacidad de interpretar los resultados. Escriba sus interpretaciones/conclusiones en celdas utilizando *Markdown*.\n",
    "- El formato de presentación de todo el examen en general debe ser adecuado. Use tamaños de letra, colores, etiquetas, etcétera."
   ]
  },
  {
   "cell_type": "markdown",
   "metadata": {},
   "source": [
    "## Primer punto. Optimización de funciones escalares usando `sympy` (30 puntos).\n",
    "\n",
    "**Enunciado.** \n",
    "\n",
    "El telescopio espacial Hubble fue puesto en operación el 24 de abril de 1990 por el trasbordador espacial Discovery. Un modelo para la velocidad del trasbordador durante su misión desde el lanzamiento en $t=0$ hasta que los cohetes auxiliares de combustible sólido se desprenden en el instante $t=126$ , está dado por \n",
    "\n",
    "$$v(t) =  0.001302t^3 - 0.09029t^2+23.61t - 3.083$$\n",
    "\n",
    "(en pies por segundo). Usando este modelo, estime los valores máximo y mínimo absolutos de la aceleración del trasbordador entre el lanzamiento y el desprendimiento de los cohetes auxiliares de combustible sólido. **NOTA: Recuerde que la fórmula de la aceleración es:**\n",
    "\n",
    "$$a=\\frac{dv}{dt}$$"
   ]
  },
  {
   "cell_type": "markdown",
   "metadata": {},
   "source": [
    "**Punto 1 (15 puntos).** Usando `sympy` encontrar la expresión para la aceleración y los puntos críticos de la misma."
   ]
  },
  {
   "cell_type": "markdown",
   "metadata": {},
   "source": [
    "**Solución punto 1.**"
   ]
  },
  {
   "cell_type": "code",
   "execution_count": null,
   "metadata": {},
   "outputs": [],
   "source": []
  },
  {
   "cell_type": "code",
   "execution_count": null,
   "metadata": {},
   "outputs": [],
   "source": []
  },
  {
   "cell_type": "code",
   "execution_count": null,
   "metadata": {},
   "outputs": [],
   "source": []
  },
  {
   "cell_type": "markdown",
   "metadata": {},
   "source": [
    "**Punto 2 (5 puntos).** Evaluar los puntos críticos y extremos del intervalo y concluir cuáles son la acelaración máxima y mínima, respectivamente y en qué instante de tiempo se presentan."
   ]
  },
  {
   "cell_type": "markdown",
   "metadata": {},
   "source": [
    "**Solución punto 2**"
   ]
  },
  {
   "cell_type": "code",
   "execution_count": null,
   "metadata": {},
   "outputs": [],
   "source": []
  },
  {
   "cell_type": "code",
   "execution_count": null,
   "metadata": {},
   "outputs": [],
   "source": []
  },
  {
   "cell_type": "markdown",
   "metadata": {},
   "source": [
    "**Punto 3 (10 puntos).** Graficar la aceleración respecto al tiempo junto con los puntos máximos y mínimos encontrados en el punto anterior."
   ]
  },
  {
   "cell_type": "markdown",
   "metadata": {},
   "source": [
    "**Solución punto 3.**"
   ]
  },
  {
   "cell_type": "code",
   "execution_count": null,
   "metadata": {},
   "outputs": [],
   "source": []
  },
  {
   "cell_type": "code",
   "execution_count": null,
   "metadata": {},
   "outputs": [],
   "source": []
  },
  {
   "cell_type": "markdown",
   "metadata": {},
   "source": [
    "## Segundo punto. Programación lineal (35 puntos)."
   ]
  },
  {
   "cell_type": "markdown",
   "metadata": {},
   "source": [
    "**Enunciado.** \n",
    "\n",
    "Como gerente de una asociación de empresas para el reciclaje en la región, ha sido asignado para tomar la decisión de a quien debe venderse unos desperdicios de metal que fueron recolectados. Dos empresas: Metales Ltda. y Hierros Unidos, están interesados en la compra de los desperdicios. La primera empresa, que paga la tonelada de metal a: $\\$500$ no esta interesada en comprar mas de $500$ $toneladas$., en cambio la segunda, que esta dispuesta a pagar $\\$400$ por tonelada de metal, ofrece comprar un límite máximo de $600$ $toneladas$. Sin embargo la financiación local ha limitado las compras formulando la siguiente condición: La cantidad de desperdicio vendida a la empresa Metales Ltda, NO puede superar el doble de la cantidad vendida a Hierros Unidos.\n",
    "\n",
    "Conociendo que la asociación de empresas dispone de 1.000 toneladas de desperdicios metálicos, formule un modelo de programación lineal que permita alcanzar la mejor decisión para el gerente para obtener la mayor ganancia."
   ]
  },
  {
   "cell_type": "markdown",
   "metadata": {},
   "source": [
    "*Variables de decisión*: \n",
    "\n",
    "$x_1$ = Cantidad de toneladas de desperdicios a vender a Metales Ltda.\n",
    "\n",
    "$x_2$ = Cantidad de toneladas de desperdicios a vender a Hierros Unidos."
   ]
  },
  {
   "cell_type": "markdown",
   "metadata": {},
   "source": [
    "**Punto 1 (20 puntos).** Escriba la función a minimizar junto con las restricciones, explicando detalladamente cada paso (usando fórmulas en LaTeX, en celdas Markdown). Además escriba el problema en la forma \n",
    "\\begin{equation}\n",
    "\\begin{array}{ll}\n",
    "\\min_{\\boldsymbol{x}} & \\boldsymbol{c}^T\\boldsymbol{x} \\\\\n",
    "\\text{s. a. }        & \\boldsymbol{A}_{eq}\\boldsymbol{x}=\\boldsymbol{b}_{eq} \\\\\n",
    "                     & \\boldsymbol{A}\\boldsymbol{x}\\leq\\boldsymbol{b},\n",
    "\\end{array}\n",
    "\\end{equation}\n",
    "\n",
    "proporcionando $\\boldsymbol{c}$, $\\boldsymbol{A}$ y $\\boldsymbol{b}$ ($\\boldsymbol{A}_{eq}$ y $\\boldsymbol{b}_{eq}$, de ser necesario) como arreglos de `NumPy` (no es necesario escribir en LaTeX el problema en la forma indicada, solo proporcionar las matrices como arreglos de `NumPy`)."
   ]
  },
  {
   "cell_type": "markdown",
   "metadata": {},
   "source": [
    "**Solución punto 1.**"
   ]
  },
  {
   "cell_type": "markdown",
   "metadata": {},
   "source": [
    "Para formular el problema en la forma estándar de programación lineal, primero definiremos la función objetivo y las restricciones en términos de matrices y vectores. Luego, proporcionaremos las matrices y vectores correspondientes como arreglos de NumPy.\n",
    "\n",
    "**Función Objetivo:**\n",
    "\n",
    "La función a minimizar es la ganancia total (\\(Z\\)) y se define como:\n",
    "\n",
    "Z = $500x_1 + 400x_2$\n",
    "\n",
    "En notación matricial, esto se puede expresar como:\n",
    "\n",
    "\\[\n",
    "\\text{Minimizar } \\boldsymbol{c}^T\\boldsymbol{x}\n",
    "\\]\n",
    "\n",
    "Donde:\n",
    "\n",
    "\\(\\boldsymbol{c} = \\begin{bmatrix} -500 \\\\ -400 \\end{bmatrix}\\) (vector de coeficientes de la función objetivo)\n",
    "\n",
    "\\(\\boldsymbol{x} = \\begin{bmatrix} x_1 \\\\ x_2 \\end{bmatrix}\\) (vector de variables de decisión)\n",
    "\n",
    "**Restricciones:**\n",
    "\n",
    "1. La cantidad total de desperdicios no puede exceder las 1,000 toneladas disponibles:\n",
    "\n",
    "\\[\n",
    "$x_1 + x_2 \\leq 1000$\n",
    "\\]\n",
    "\n",
    "2. La empresa Metales Ltda. no está interesada en comprar más de 500 toneladas:\n",
    "\n",
    "\n",
    "$x_1 \\leq 500$\n",
    "\n",
    "\n",
    "3. La empresa Hierros Unidos ofrece comprar un máximo de 600 toneladas:\n",
    "\n",
    "$x_2 \\leq 600$\n",
    "\n",
    "4. La cantidad de desperdicio vendida a Metales Ltda. no puede superar el doble de la cantidad vendida a Hierros Unidos:\n",
    "\n",
    "$x_1 \\leq 2x_2$\n",
    "\n",
    "En notación matricial, estas restricciones se pueden expresar como:\n",
    "\n",
    "\\[\n",
    "\\boldsymbol{A}\\boldsymbol{x} \\leq \\boldsymbol{b}\n",
    "\\]\n",
    "\n",
    "Donde:\n",
    "\n",
    "\\(\\boldsymbol{A} = \\begin{bmatrix} 1 & 1 \\\\ 1 & 0 \\\\ 0 & 1 \\\\ -2 & 1 \\end{bmatrix}\\) (matriz de coeficientes de restricciones)\n",
    "\n",
    "\\(\\boldsymbol{b} = \\begin{bmatrix} 1000 \\\\ 500 \\\\ 600 \\\\ 0 \\end{bmatrix}\\) (vector de lados derechos)\n",
    "\n",
    "Entonces, el problema se puede representar en la forma estándar de programación lineal de la siguiente manera:\n",
    "\n",
    "\\[\n",
    "\\begin{array}{ll}\n",
    "\\min_{\\boldsymbol{x}} & \\boldsymbol{c}^T\\boldsymbol{x} \\\\\n",
    "\\text{s. a. }        & \\boldsymbol{A}\\boldsymbol{x} \\leq \\boldsymbol{b}\n",
    "\\end{array}\n",
    "\\]\n",
    "\n",
    "A continuación, proporcionaremos las matrices y vectores como arreglos de NumPy en Python:\n",
    "\n",
    "```python\n",
    "import numpy as np\n",
    "\n",
    "# Coeficientes de la función objetivo\n",
    "c = np.array([-500, -400])\n",
    "\n",
    "# Matriz de coeficientes de restricciones\n",
    "A = np.array([\n",
    "    [1, 1],\n",
    "    [1, 0],\n",
    "    [0, 1],\n",
    "    [-2, 1]\n",
    "])\n",
    "\n",
    "# Vector de lados derechos\n",
    "b = np.array([1000, 500, 600, 0])\n",
    "```\n",
    "\n",
    "Estas matrices y vectores pueden utilizarse en solvers de programación lineal para encontrar la solución óptima del problema."
   ]
  },
  {
   "cell_type": "code",
   "execution_count": null,
   "metadata": {},
   "outputs": [],
   "source": [
    "import numpy as np\n",
    "import scipy.optimize as opt\n"
   ]
  },
  {
   "cell_type": "code",
   "execution_count": null,
   "metadata": {},
   "outputs": [],
   "source": []
  },
  {
   "cell_type": "markdown",
   "metadata": {},
   "source": [
    "**Punto 2 (15 puntos).** Resuelva el problema utilizando la función `linprog`. ¿Cuántos toneladas hay que vender a cada empresa?"
   ]
  },
  {
   "cell_type": "markdown",
   "metadata": {},
   "source": [
    "**Solución punto 2.**"
   ]
  },
  {
   "cell_type": "code",
   "execution_count": null,
   "metadata": {},
   "outputs": [],
   "source": [
    "import numpy as np\n",
    "import scipy.optimize as opt"
   ]
  },
  {
   "cell_type": "code",
   "execution_count": null,
   "metadata": {},
   "outputs": [],
   "source": []
  },
  {
   "cell_type": "markdown",
   "metadata": {},
   "source": [
    "## Tercer punto. Ajuste de curvas (35 puntos).\n",
    "\n",
    "**Enunciado**. El archivo `population_urban.csv` contiene información histórica anual de México relativa a el % de población urbana.\n",
    "\n",
    "**Punto 1 (10 puntos).** Importar los datos en un DataFrame de pandas."
   ]
  },
  {
   "cell_type": "markdown",
   "metadata": {},
   "source": [
    "**Solución punto 1.**"
   ]
  },
  {
   "cell_type": "code",
   "execution_count": null,
   "metadata": {},
   "outputs": [],
   "source": []
  },
  {
   "cell_type": "markdown",
   "metadata": {},
   "source": [
    "**Punto 2 (15 puntos).** Usando los años como variable independiente $x$ y la población como variable dependiente $y$, ajustar polinomios de grado 1 hasta grado 3.\n",
    "\n",
    "**En caso de ser necesario, aplique el escalado de características usando el método de normalización**\n",
    "\n",
    "Mostrar en un solo gráfico los datos de población contra los años, y los polinomios ajustados.\n",
    "\n",
    "Graficar el error cuadrático acumulado contra el número de términos. ¿Cuál es el polinomio que mejor se ajusta?"
   ]
  },
  {
   "cell_type": "markdown",
   "metadata": {},
   "source": [
    "**Solución punto 2.**"
   ]
  },
  {
   "cell_type": "code",
   "execution_count": null,
   "metadata": {},
   "outputs": [],
   "source": []
  },
  {
   "cell_type": "code",
   "execution_count": null,
   "metadata": {},
   "outputs": [],
   "source": []
  },
  {
   "cell_type": "code",
   "execution_count": null,
   "metadata": {},
   "outputs": [],
   "source": []
  },
  {
   "cell_type": "code",
   "execution_count": null,
   "metadata": {},
   "outputs": [],
   "source": []
  },
  {
   "cell_type": "code",
   "execution_count": null,
   "metadata": {},
   "outputs": [],
   "source": []
  },
  {
   "cell_type": "markdown",
   "metadata": {},
   "source": [
    "**Punto 3 (10 puntos).** Con los polinomios ajustados en el punto anterior, estime la población en el año 2019  y compare con el dato real 80.444%.\n",
    "\n",
    "¿Cuál polinomio estima mejor este dato? ¿Es el polinomio que mejor se ajusta? Concluya."
   ]
  },
  {
   "cell_type": "markdown",
   "metadata": {},
   "source": [
    "**Solución punto 3.**"
   ]
  },
  {
   "cell_type": "code",
   "execution_count": null,
   "metadata": {},
   "outputs": [],
   "source": []
  },
  {
   "cell_type": "markdown",
   "metadata": {},
   "source": []
  }
 ],
 "metadata": {
  "kernelspec": {
   "display_name": "Python 3 (ipykernel)",
   "language": "python",
   "name": "python3"
  },
  "language_info": {
   "codemirror_mode": {
    "name": "ipython",
    "version": 3
   },
   "file_extension": ".py",
   "mimetype": "text/x-python",
   "name": "python",
   "nbconvert_exporter": "python",
   "pygments_lexer": "ipython3",
   "version": "3.11.4"
  }
 },
 "nbformat": 4,
 "nbformat_minor": 2
}
